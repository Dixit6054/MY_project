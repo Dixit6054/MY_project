{
  "nbformat": 4,
  "nbformat_minor": 0,
  "metadata": {
    "colab": {
      "provenance": [],
      "authorship_tag": "ABX9TyPb3g5ITo8z/wgMOOsdKLfi",
      "include_colab_link": true
    },
    "kernelspec": {
      "name": "python3",
      "display_name": "Python 3"
    },
    "language_info": {
      "name": "python"
    }
  },
  "cells": [
    {
      "cell_type": "markdown",
      "metadata": {
        "id": "view-in-github",
        "colab_type": "text"
      },
      "source": [
        "<a href=\"https://colab.research.google.com/github/Dixit6054/MY_project/blob/master/Telegram%20bot.ipynb\" target=\"_parent\"><img src=\"https://colab.research.google.com/assets/colab-badge.svg\" alt=\"Open In Colab\"/></a>"
      ]
    },
    {
      "cell_type": "code",
      "execution_count": null,
      "metadata": {
        "colab": {
          "base_uri": "https://localhost:8080/"
        },
        "id": "j4Iy3xYJ92OB",
        "outputId": "5acc41f9-f78e-4b32-8ae1-f20a1ab11af0"
      },
      "outputs": [
        {
          "output_type": "execute_result",
          "data": {
            "text/plain": [
              "b'{\"ok\":true,\"result\":{\"message_id\":232,\"sender_chat\":{\"id\":-1001958631566,\"title\":\"GBPUSD\",\"type\":\"channel\"},\"chat\":{\"id\":-1001958631566,\"title\":\"GBPUSD\",\"type\":\"channel\"},\"date\":1734489931,\"text\":\"msg\"}}'"
            ]
          },
          "metadata": {},
          "execution_count": 12
        }
      ],
      "source": [
        "#inital code, was able to send messages\n",
        "\n",
        "import flask\n",
        "import requests\n",
        "\n",
        "def alert_api(request):\n",
        "    \"\"\"\n",
        "    Sample call:\n",
        "    https://asia-east2-viet-grade.cloudfunctions.net/alert_api?message=TestMessage\n",
        "    \"\"\"\n",
        "    msg = request.args.get('message')  # Fetch the 'message' parameter from the request\n",
        "    __send_message(msg)  # Send the message via Telegram\n",
        "    return flask.jsonify({\"status\": \"done\"})  # Return response to the client\n",
        "\n",
        "def __send_message(msg):\n",
        "    \"\"\"\n",
        "    Send message via Telegram bot\n",
        "    :param msg: Message to be sent\n",
        "    :return: Response content from Telegram API\n",
        "    \"\"\"\n",
        "    TELEGRAM_TOKEN = '6752612939:AAHG52PLf3c8XK3Wc-t1ohszKeu8ILx4ISg'  #  Telegram bot token\n",
        "    TELEGRAM_CHAT_ID = '-1001958631566'  #  Telegram chat ID\n",
        "\n",
        "    # Payload to send the message via Telegram Bot API\n",
        "    payload = {\n",
        "        'chat_id': TELEGRAM_CHAT_ID,\n",
        "        'text': msg,\n",
        "        'parse_mode': 'HTML'\n",
        "    }\n",
        "\n",
        "    # Send HTTP POST request to Telegram Bot API\n",
        "    return requests.post(f'https://api.telegram.org/bot{TELEGRAM_TOKEN}/sendMessage',\n",
        "                         data=payload).content\n",
        "\n",
        "__send_message('msg')"
      ]
    },
    {
      "cell_type": "code",
      "source": [
        "!pip install python-telegram-bot\n",
        "import flask\n",
        "import requests\n",
        "import telegram\n",
        "from flask import jsonify\n",
        "\n",
        "def telegram_bot(request):\n",
        "    bot = telegram.Bot(token='6752612939:AAHG52PLf3c8XK3Wc-t1ohszKeu8ILx4ISg')\n",
        "    if request.method == \"POST\":\n",
        "        try:\n",
        "            # Parse incoming Telegram payload\n",
        "            update = telegram.Update.de_json(request.get_json(force=True), bot)\n",
        "            chat_id = update.message.chat.id\n",
        "            user_message = update.message.text\n",
        "\n",
        "            # Log incoming data\n",
        "            print(f\"Incoming message: {user_message} from chat ID: {chat_id}\")\n",
        "\n",
        "            # Reply to the sender\n",
        "            bot.sendMessage(chat_id=chat_id, text=\"Noted: {user_message}\")\n",
        "\n",
        "            return jsonify({\"status\": \"success\"}), 200  # Explicit success response\n",
        "\n",
        "        except Exception as e:\n",
        "            print(f\"Error: {str(e)}\")\n",
        "            return jsonify({\"status\": \"error\", \"message\": str(e)}), 500\n",
        "\n",
        "    return jsonify({\"status\": \"error\", \"message\": \"Invalid request method\"}), 405\n"
      ],
      "metadata": {
        "colab": {
          "base_uri": "https://localhost:8080/"
        },
        "id": "IgMc7u3WkqfS",
        "outputId": "6072a330-aed6-417d-ef76-ecad3f5aeb99"
      },
      "execution_count": null,
      "outputs": [
        {
          "output_type": "stream",
          "name": "stdout",
          "text": [
            "Requirement already satisfied: python-telegram-bot in /usr/local/lib/python3.10/dist-packages (21.9)\n",
            "Requirement already satisfied: httpx~=0.27 in /usr/local/lib/python3.10/dist-packages (from python-telegram-bot) (0.28.1)\n",
            "Requirement already satisfied: anyio in /usr/local/lib/python3.10/dist-packages (from httpx~=0.27->python-telegram-bot) (3.7.1)\n",
            "Requirement already satisfied: certifi in /usr/local/lib/python3.10/dist-packages (from httpx~=0.27->python-telegram-bot) (2024.8.30)\n",
            "Requirement already satisfied: httpcore==1.* in /usr/local/lib/python3.10/dist-packages (from httpx~=0.27->python-telegram-bot) (1.0.7)\n",
            "Requirement already satisfied: idna in /usr/local/lib/python3.10/dist-packages (from httpx~=0.27->python-telegram-bot) (3.10)\n",
            "Requirement already satisfied: h11<0.15,>=0.13 in /usr/local/lib/python3.10/dist-packages (from httpcore==1.*->httpx~=0.27->python-telegram-bot) (0.14.0)\n",
            "Requirement already satisfied: sniffio>=1.1 in /usr/local/lib/python3.10/dist-packages (from anyio->httpx~=0.27->python-telegram-bot) (1.3.1)\n",
            "Requirement already satisfied: exceptiongroup in /usr/local/lib/python3.10/dist-packages (from anyio->httpx~=0.27->python-telegram-bot) (1.2.2)\n"
          ]
        }
      ]
    },
    {
      "cell_type": "code",
      "source": [
        "import os\n",
        "import telegram\n",
        "from flask import Flask, request, jsonify\n",
        "\n",
        "app = Flask(__name__)\n",
        "\n",
        "# Replace with your bot token (hardcoded for testing)\n",
        "TELEGRAM_TOKEN = \"6752612939:AAHG52PLf3c8XK3Wc-t1ohszKeu8ILx4ISg\"\n",
        "bot = telegram.Bot(token=TELEGRAM_TOKEN)\n",
        "\n",
        "@app.route('/telegram_bot', methods=['POST'])\n",
        "def telegram_bot():\n",
        "    try:\n",
        "        # Parse incoming JSON payload\n",
        "        update = telegram.Update.de_json(request.get_json(force=True), bot)\n",
        "        chat_id = update.message.chat.id\n",
        "        user_message = update.message.text\n",
        "\n",
        "        print(f\"Received message: {user_message} from chat ID: {chat_id}\")\n",
        "\n",
        "        # Reply to the sender\n",
        "        bot.sendMessage(chat_id=chat_id, text=f\"Noted: {user_message}\")\n",
        "\n",
        "        return jsonify({\"status\": \"success\", \"message\": \"Message processed\"}), 200\n",
        "\n",
        "    except Exception as e:\n",
        "        print(f\"Error: {str(e)}\")\n",
        "        return jsonify({\"status\": \"error\", \"message\": str(e)}), 400\n",
        "\n",
        "if __name__ == '__main__':\n",
        "    app.run(debug=True)\n"
      ],
      "metadata": {
        "colab": {
          "base_uri": "https://localhost:8080/"
        },
        "id": "6nmR1l7ntG-Q",
        "outputId": "d1fc8031-e66a-4ed9-a093-21ca21e10d0e"
      },
      "execution_count": null,
      "outputs": [
        {
          "output_type": "stream",
          "name": "stdout",
          "text": [
            " * Serving Flask app '__main__'\n",
            " * Debug mode: on\n"
          ]
        },
        {
          "output_type": "stream",
          "name": "stderr",
          "text": [
            "INFO:werkzeug:\u001b[31m\u001b[1mWARNING: This is a development server. Do not use it in a production deployment. Use a production WSGI server instead.\u001b[0m\n",
            " * Running on http://127.0.0.1:5000\n",
            "INFO:werkzeug:\u001b[33mPress CTRL+C to quit\u001b[0m\n",
            "INFO:werkzeug: * Restarting with stat\n"
          ]
        }
      ]
    },
    {
      "cell_type": "code",
      "source": [
        "import os\n",
        "import telegram\n",
        "from flask import jsonify, request\n",
        "\n",
        "# Initialize Telegram Bot with token from environment variables\n",
        "TELEGRAM_BOT_TOKEN = os.getenv(\"TELEGRAM_BOT_TOKEN\")\n",
        "if not TELEGRAM_BOT_TOKEN:\n",
        "    raise ValueError(\"TELEGRAM_BOT_TOKEN is not set. Please configure it.\")\n",
        "\n",
        "bot = telegram.Bot(token=TELEGRAM_BOT_TOKEN)\n",
        "\n",
        "def telegram_bot(request):\n",
        "    \"\"\"\n",
        "    Google Cloud Function to handle Telegram webhook and other HTTP requests.\n",
        "    Supports POST for Telegram updates and GET for health checks.\n",
        "    \"\"\"\n",
        "    if request.method == \"POST\":\n",
        "        try:\n",
        "            # Parse incoming JSON payload\n",
        "            if not request.is_json:\n",
        "                return jsonify({\"status\": \"error\", \"message\": \"Request payload is not valid JSON\"}), 400\n",
        "\n",
        "            request_json = request.get_json()\n",
        "            if not request_json:\n",
        "                return jsonify({\"status\": \"error\", \"message\": \"Request payload is empty\"}), 400\n",
        "\n",
        "            # Parse the Telegram update\n",
        "            update = telegram.Update.de_json(request_json, bot)\n",
        "\n",
        "            # Validate update structure\n",
        "            if not update.message or not update.message.chat or not update.message.text:\n",
        "                return jsonify({\n",
        "                    \"status\": \"error\",\n",
        "                    \"message\": \"Invalid Telegram update: Missing 'message', 'chat', or 'text' fields\"\n",
        "                }), 400\n",
        "\n",
        "            # Extract message details\n",
        "            chat_id = update.message.chat.id\n",
        "            user_message = update.message.text\n",
        "\n",
        "            # Log the received message\n",
        "            print(f\"Received message: '{user_message}' from chat ID: {chat_id}\")\n",
        "\n",
        "            # Use blocking version of send_message\n",
        "            bot.send_message(chat_id=chat_id, text=f\"Noted: {user_message}\")\n",
        "\n",
        "            # Return success response\n",
        "            return jsonify({\"status\": \"success\"}), 200\n",
        "\n",
        "        except telegram.error.TelegramError as te:\n",
        "            print(f\"Telegram API error: {str(te)}\")\n",
        "            return jsonify({\"status\": \"error\", \"message\": \"Telegram API error\"}), 500\n",
        "        except Exception as e:\n",
        "            print(f\"Unexpected error: {str(e)}\")\n",
        "            return jsonify({\"status\": \"error\", \"message\": f\"Internal server error: {str(e)}\"}), 500\n",
        "\n",
        "    elif request.method == \"GET\":\n",
        "        # Example response for GET requests\n",
        "        return jsonify({\"status\": \"success\", \"message\": \"Telegram bot is up and running!\"}), 200\n",
        "\n",
        "    else:\n",
        "        # Handle unsupported HTTP methods\n",
        "        return jsonify({\"status\": \"error\", \"message\": f\"Method {request.method} not allowed\"}), 405\n"
      ],
      "metadata": {
        "colab": {
          "base_uri": "https://localhost:8080/",
          "height": 403
        },
        "id": "b6BMQ4oo5Che",
        "outputId": "e46a2015-3469-48cb-f586-5be64c599395"
      },
      "execution_count": 2,
      "outputs": [
        {
          "output_type": "error",
          "ename": "ModuleNotFoundError",
          "evalue": "No module named 'telegram'",
          "traceback": [
            "\u001b[0;31m---------------------------------------------------------------------------\u001b[0m",
            "\u001b[0;31mModuleNotFoundError\u001b[0m                       Traceback (most recent call last)",
            "\u001b[0;32m<ipython-input-2-c3f52d128ab7>\u001b[0m in \u001b[0;36m<cell line: 2>\u001b[0;34m()\u001b[0m\n\u001b[1;32m      1\u001b[0m \u001b[0;32mimport\u001b[0m \u001b[0mos\u001b[0m\u001b[0;34m\u001b[0m\u001b[0;34m\u001b[0m\u001b[0m\n\u001b[0;32m----> 2\u001b[0;31m \u001b[0;32mimport\u001b[0m \u001b[0mtelegram\u001b[0m\u001b[0;34m\u001b[0m\u001b[0;34m\u001b[0m\u001b[0m\n\u001b[0m\u001b[1;32m      3\u001b[0m \u001b[0;32mfrom\u001b[0m \u001b[0mflask\u001b[0m \u001b[0;32mimport\u001b[0m \u001b[0mjsonify\u001b[0m\u001b[0;34m,\u001b[0m \u001b[0mrequest\u001b[0m\u001b[0;34m\u001b[0m\u001b[0;34m\u001b[0m\u001b[0m\n\u001b[1;32m      4\u001b[0m \u001b[0;34m\u001b[0m\u001b[0m\n\u001b[1;32m      5\u001b[0m \u001b[0;31m# Initialize Telegram Bot with token from environment variables\u001b[0m\u001b[0;34m\u001b[0m\u001b[0;34m\u001b[0m\u001b[0m\n",
            "\u001b[0;31mModuleNotFoundError\u001b[0m: No module named 'telegram'",
            "",
            "\u001b[0;31m---------------------------------------------------------------------------\u001b[0;32m\nNOTE: If your import is failing due to a missing package, you can\nmanually install dependencies using either !pip or !apt.\n\nTo view examples of installing some common dependencies, click the\n\"Open Examples\" button below.\n\u001b[0;31m---------------------------------------------------------------------------\u001b[0m\n"
          ],
          "errorDetails": {
            "actions": [
              {
                "action": "open_url",
                "actionText": "Open Examples",
                "url": "/notebooks/snippets/importing_libraries.ipynb"
              }
            ]
          }
        }
      ]
    },
    {
      "cell_type": "code",
      "source": [
        "\"\"\"\n",
        "This script creates a Flask web server that acts as a webhook for a Telegram bot.\n",
        "It uses ngrok to expose the local server to the internet, allowing Telegram to send updates.\n",
        "When a message is received, the bot replies with a confirmation message.\n",
        "\"\"\"\n",
        "\n",
        "import os\n",
        "import telegram\n",
        "from flask import Flask, request, jsonify\n",
        "from pyngrok import ngrok\n",
        "\n",
        "# Initialize Flask app\n",
        "app = Flask(__name__)\n",
        "\n",
        "# Replace this with your Telegram bot token\n",
        "TELEGRAM_TOKEN = \"6752612939:AAHG52PLf3c8XK3Wc-t1ohszKeu8ILx4ISg\"  # Replace with your actual Telegram bot token\n",
        "bot = telegram.Bot(token=TELEGRAM_TOKEN)  # Create a bot instance using the token\n",
        "\n",
        "# --- Webhook Route ---\n",
        "# This route handles incoming POST requests from Telegram to the '/telegram_bot' endpoint.\n",
        "# It processes the incoming message and sends a response back to Telegram.\n",
        "@app.route('/telegram_bot', methods=['POST'])\n",
        "def telegram_bot():\n",
        "    \"\"\"\n",
        "    Handles incoming Telegram webhook requests.\n",
        "\n",
        "    Args:\n",
        "        None (receives data from the request object).\n",
        "\n",
        "    Returns:\n",
        "        A JSON response indicating success or error, along with an HTTP status code.\n",
        "    \"\"\"\n",
        "    try:\n",
        "        # Parse incoming data\n",
        "        update = telegram.Update.de_json(request.get_json(force=True), bot)  # Parse the incoming JSON payload into a Telegram Update object\n",
        "        chat_id = update.message.chat.id  # Get the chat ID from the Update object\n",
        "        user_message = update.message.text  # Get the user's message from the Update object\n",
        "\n",
        "        print(f\"Received: '{user_message}' from Chat ID: {chat_id}\")  # Print the received message and chat ID to the console\n",
        "\n",
        "        # Reply back with a confirmation message\n",
        "        bot.sendMessage(chat_id=chat_id, text=f\"Noted: {user_message}\")  # Send a reply message to the user\n",
        "\n",
        "        return jsonify({\"status\": \"success\", \"message\": \"Message processed\"}), 200  # Return a success response with HTTP status code 200\n",
        "\n",
        "    except Exception as e:\n",
        "        print(f\"Error: {e}\")  # Print any errors to the console\n",
        "        return jsonify({\"status\": \"error\", \"message\": str(e)}), 200  # Return an error response with HTTP status code 200 (to prevent Telegram retries)\n",
        "\n",
        "# Expose Flask App using ngrok\n",
        "public_url = ngrok.connect(5000).public_url  # Start ngrok and get the public URL\n",
        "print(f\"Public URL: {public_url}\")  # Print the public URL to the console\n",
        "\n",
        "# Run Flask Server\n",
        "app.run(port=5000)  # Start the Flask server on port 5000"
      ],
      "metadata": {
        "id": "OK4guJWO7P3U",
        "colab": {
          "base_uri": "https://localhost:8080/",
          "height": 505
        },
        "outputId": "c2748aaf-c6ba-475f-9b35-3a54cd53259e"
      },
      "execution_count": 8,
      "outputs": [
        {
          "output_type": "stream",
          "name": "stdout",
          "text": []
        },
        {
          "output_type": "stream",
          "name": "stderr",
          "text": [
            "ERROR:pyngrok.process.ngrok:t=2024-12-18T17:00:19+0000 lvl=eror msg=\"failed to reconnect session\" obj=tunnels.session err=\"authentication failed: Usage of ngrok requires a verified account and authtoken.\\n\\nSign up for an account: https://dashboard.ngrok.com/signup\\nInstall your authtoken: https://dashboard.ngrok.com/get-started/your-authtoken\\r\\n\\r\\nERR_NGROK_4018\\r\\n\"\n",
            "ERROR:pyngrok.process.ngrok:t=2024-12-18T17:00:19+0000 lvl=eror msg=\"session closing\" obj=tunnels.session err=\"authentication failed: Usage of ngrok requires a verified account and authtoken.\\n\\nSign up for an account: https://dashboard.ngrok.com/signup\\nInstall your authtoken: https://dashboard.ngrok.com/get-started/your-authtoken\\r\\n\\r\\nERR_NGROK_4018\\r\\n\"\n",
            "ERROR:pyngrok.process.ngrok:t=2024-12-18T17:00:19+0000 lvl=eror msg=\"terminating with error\" obj=app err=\"authentication failed: Usage of ngrok requires a verified account and authtoken.\\n\\nSign up for an account: https://dashboard.ngrok.com/signup\\nInstall your authtoken: https://dashboard.ngrok.com/get-started/your-authtoken\\r\\n\\r\\nERR_NGROK_4018\\r\\n\"\n",
            "CRITICAL:pyngrok.process.ngrok:t=2024-12-18T17:00:19+0000 lvl=crit msg=\"command failed\" err=\"authentication failed: Usage of ngrok requires a verified account and authtoken.\\n\\nSign up for an account: https://dashboard.ngrok.com/signup\\nInstall your authtoken: https://dashboard.ngrok.com/get-started/your-authtoken\\r\\n\\r\\nERR_NGROK_4018\\r\\n\"\n",
            "WARNING:pyngrok.process.ngrok:t=2024-12-18T17:00:19+0000 lvl=warn msg=\"failed to check for update\" obj=updater err=\"Post \\\"https://update.equinox.io/check\\\": context canceled\"\n"
          ]
        },
        {
          "output_type": "error",
          "ename": "PyngrokNgrokError",
          "evalue": "The ngrok process errored on start: authentication failed: Usage of ngrok requires a verified account and authtoken.\\n\\nSign up for an account: https://dashboard.ngrok.com/signup\\nInstall your authtoken: https://dashboard.ngrok.com/get-started/your-authtoken\\r\\n\\r\\nERR_NGROK_4018\\r\\n.",
          "traceback": [
            "\u001b[0;31m---------------------------------------------------------------------------\u001b[0m",
            "\u001b[0;31mPyngrokNgrokError\u001b[0m                         Traceback (most recent call last)",
            "\u001b[0;32m<ipython-input-8-987ef8adc54a>\u001b[0m in \u001b[0;36m<cell line: 51>\u001b[0;34m()\u001b[0m\n\u001b[1;32m     49\u001b[0m \u001b[0;34m\u001b[0m\u001b[0m\n\u001b[1;32m     50\u001b[0m \u001b[0;31m# Expose Flask App using ngrok\u001b[0m\u001b[0;34m\u001b[0m\u001b[0;34m\u001b[0m\u001b[0m\n\u001b[0;32m---> 51\u001b[0;31m \u001b[0mpublic_url\u001b[0m \u001b[0;34m=\u001b[0m \u001b[0mngrok\u001b[0m\u001b[0;34m.\u001b[0m\u001b[0mconnect\u001b[0m\u001b[0;34m(\u001b[0m\u001b[0;36m5000\u001b[0m\u001b[0;34m)\u001b[0m\u001b[0;34m.\u001b[0m\u001b[0mpublic_url\u001b[0m  \u001b[0;31m# Start ngrok and get the public URL\u001b[0m\u001b[0;34m\u001b[0m\u001b[0;34m\u001b[0m\u001b[0m\n\u001b[0m\u001b[1;32m     52\u001b[0m \u001b[0mprint\u001b[0m\u001b[0;34m(\u001b[0m\u001b[0;34mf\"Public URL: {public_url}\"\u001b[0m\u001b[0;34m)\u001b[0m  \u001b[0;31m# Print the public URL to the console\u001b[0m\u001b[0;34m\u001b[0m\u001b[0;34m\u001b[0m\u001b[0m\n\u001b[1;32m     53\u001b[0m \u001b[0;34m\u001b[0m\u001b[0m\n",
            "\u001b[0;32m/usr/local/lib/python3.10/dist-packages/pyngrok/ngrok.py\u001b[0m in \u001b[0;36mconnect\u001b[0;34m(addr, proto, name, pyngrok_config, **options)\u001b[0m\n\u001b[1;32m    329\u001b[0m     \u001b[0mlogger\u001b[0m\u001b[0;34m.\u001b[0m\u001b[0minfo\u001b[0m\u001b[0;34m(\u001b[0m\u001b[0;34mf\"Opening tunnel named: {name}\"\u001b[0m\u001b[0;34m)\u001b[0m\u001b[0;34m\u001b[0m\u001b[0;34m\u001b[0m\u001b[0m\n\u001b[1;32m    330\u001b[0m \u001b[0;34m\u001b[0m\u001b[0m\n\u001b[0;32m--> 331\u001b[0;31m     \u001b[0mapi_url\u001b[0m \u001b[0;34m=\u001b[0m \u001b[0mget_ngrok_process\u001b[0m\u001b[0;34m(\u001b[0m\u001b[0mpyngrok_config\u001b[0m\u001b[0;34m)\u001b[0m\u001b[0;34m.\u001b[0m\u001b[0mapi_url\u001b[0m\u001b[0;34m\u001b[0m\u001b[0;34m\u001b[0m\u001b[0m\n\u001b[0m\u001b[1;32m    332\u001b[0m \u001b[0;34m\u001b[0m\u001b[0m\n\u001b[1;32m    333\u001b[0m     \u001b[0mlogger\u001b[0m\u001b[0;34m.\u001b[0m\u001b[0mdebug\u001b[0m\u001b[0;34m(\u001b[0m\u001b[0;34mf\"Creating tunnel with options: {options}\"\u001b[0m\u001b[0;34m)\u001b[0m\u001b[0;34m\u001b[0m\u001b[0;34m\u001b[0m\u001b[0m\n",
            "\u001b[0;32m/usr/local/lib/python3.10/dist-packages/pyngrok/ngrok.py\u001b[0m in \u001b[0;36mget_ngrok_process\u001b[0;34m(pyngrok_config)\u001b[0m\n\u001b[1;32m    154\u001b[0m     \u001b[0minstall_ngrok\u001b[0m\u001b[0;34m(\u001b[0m\u001b[0mpyngrok_config\u001b[0m\u001b[0;34m)\u001b[0m\u001b[0;34m\u001b[0m\u001b[0;34m\u001b[0m\u001b[0m\n\u001b[1;32m    155\u001b[0m \u001b[0;34m\u001b[0m\u001b[0m\n\u001b[0;32m--> 156\u001b[0;31m     \u001b[0;32mreturn\u001b[0m \u001b[0mprocess\u001b[0m\u001b[0;34m.\u001b[0m\u001b[0mget_process\u001b[0m\u001b[0;34m(\u001b[0m\u001b[0mpyngrok_config\u001b[0m\u001b[0;34m)\u001b[0m\u001b[0;34m\u001b[0m\u001b[0;34m\u001b[0m\u001b[0m\n\u001b[0m\u001b[1;32m    157\u001b[0m \u001b[0;34m\u001b[0m\u001b[0m\n\u001b[1;32m    158\u001b[0m \u001b[0;34m\u001b[0m\u001b[0m\n",
            "\u001b[0;32m/usr/local/lib/python3.10/dist-packages/pyngrok/process.py\u001b[0m in \u001b[0;36mget_process\u001b[0;34m(pyngrok_config)\u001b[0m\n\u001b[1;32m    233\u001b[0m         \u001b[0;32mreturn\u001b[0m \u001b[0m_current_processes\u001b[0m\u001b[0;34m[\u001b[0m\u001b[0mpyngrok_config\u001b[0m\u001b[0;34m.\u001b[0m\u001b[0mngrok_path\u001b[0m\u001b[0;34m]\u001b[0m\u001b[0;34m\u001b[0m\u001b[0;34m\u001b[0m\u001b[0m\n\u001b[1;32m    234\u001b[0m \u001b[0;34m\u001b[0m\u001b[0m\n\u001b[0;32m--> 235\u001b[0;31m     \u001b[0;32mreturn\u001b[0m \u001b[0m_start_process\u001b[0m\u001b[0;34m(\u001b[0m\u001b[0mpyngrok_config\u001b[0m\u001b[0;34m)\u001b[0m\u001b[0;34m\u001b[0m\u001b[0;34m\u001b[0m\u001b[0m\n\u001b[0m\u001b[1;32m    236\u001b[0m \u001b[0;34m\u001b[0m\u001b[0m\n\u001b[1;32m    237\u001b[0m \u001b[0;34m\u001b[0m\u001b[0m\n",
            "\u001b[0;32m/usr/local/lib/python3.10/dist-packages/pyngrok/process.py\u001b[0m in \u001b[0;36m_start_process\u001b[0;34m(pyngrok_config)\u001b[0m\n\u001b[1;32m    396\u001b[0m \u001b[0;34m\u001b[0m\u001b[0m\n\u001b[1;32m    397\u001b[0m         \u001b[0;32mif\u001b[0m \u001b[0mngrok_process\u001b[0m\u001b[0;34m.\u001b[0m\u001b[0mstartup_error\u001b[0m \u001b[0;32mis\u001b[0m \u001b[0;32mnot\u001b[0m \u001b[0;32mNone\u001b[0m\u001b[0;34m:\u001b[0m\u001b[0;34m\u001b[0m\u001b[0;34m\u001b[0m\u001b[0m\n\u001b[0;32m--> 398\u001b[0;31m             raise PyngrokNgrokError(f\"The ngrok process errored on start: {ngrok_process.startup_error}.\",\n\u001b[0m\u001b[1;32m    399\u001b[0m                                     \u001b[0mngrok_process\u001b[0m\u001b[0;34m.\u001b[0m\u001b[0mlogs\u001b[0m\u001b[0;34m,\u001b[0m\u001b[0;34m\u001b[0m\u001b[0;34m\u001b[0m\u001b[0m\n\u001b[1;32m    400\u001b[0m                                     ngrok_process.startup_error)\n",
            "\u001b[0;31mPyngrokNgrokError\u001b[0m: The ngrok process errored on start: authentication failed: Usage of ngrok requires a verified account and authtoken.\\n\\nSign up for an account: https://dashboard.ngrok.com/signup\\nInstall your authtoken: https://dashboard.ngrok.com/get-started/your-authtoken\\r\\n\\r\\nERR_NGROK_4018\\r\\n."
          ]
        }
      ]
    },
    {
      "cell_type": "code",
      "source": [
        "\"\"\"\n",
        "This script defines a webhook for a Telegram bot.\n",
        "It listens for incoming messages from Telegram,\n",
        "processes them (in this case, simply echoing the message back),\n",
        "and sends a response to the user.\n",
        "The webhook is designed to be deployed as a serverless function\n",
        "(e.g., on Google Cloud Functions) and is triggered by\n",
        "HTTP POST requests from Telegram.\n",
        "\"\"\"\n",
        "\n",
        "import os\n",
        "import telegram\n",
        "from flask import jsonify, request\n",
        "\n",
        "# Initialize Telegram bot\n",
        "# TELEGRAM_TOKEN = os.environ.get(\"TELEGRAM_TOKEN\")  # Ensure you set this in your environment, uncomment to use env variable for token\n",
        "bot = telegram.Bot(token='6752612939:AAHG52PLf3c8XK3Wc-t1ohszKeu8ILx4ISg')  # Initialize with your bot token\n",
        "\n",
        "\n",
        "# --- Function to handle Telegram Webhook ---\n",
        "# This function is called whenever Telegram sends an update to the bot.\n",
        "# It's responsible for receiving the update, processing it, and sending a response back to Telegram.\n",
        "def telegram_webhook(request):\n",
        "    \"\"\"\n",
        "    This function handles incoming Telegram webhook requests.\n",
        "    It receives updates from Telegram, processes them,\n",
        "    and sends a response back.\n",
        "\n",
        "    Args:\n",
        "        request: The incoming HTTP request object from Flask.\n",
        "\n",
        "    Returns:\n",
        "        A JSON response indicating success or error, along with an HTTP status code.\n",
        "    \"\"\"\n",
        "    try:\n",
        "        # Log the incoming payload\n",
        "        payload = request.get_json(force=True)  # Extract Telegram request payload as a dictionary. force=True ensures it's parsed as JSON\n",
        "        print(\"Incoming Payload:\", payload)  # Log the entire payload for debugging purposes\n",
        "\n",
        "        # Extract required fields\n",
        "        update = telegram.Update.de_json(payload, bot)  # Create an Update object from the payload using the bot instance\n",
        "        chat_id = update.message.chat.id  # Get the chat ID of the sender from the Update object\n",
        "        user_message = update.message.text  # Get the text message sent by the user from the Update object\n",
        "\n",
        "        # Log message details\n",
        "        print(f\"Message received: {user_message} | Chat ID: {chat_id}\")  # Print message and chat ID to console for logging\n",
        "\n",
        "        # Send a response back to Telegram\n",
        "        bot.sendMessage(chat_id=chat_id, text=f\"Noted: {user_message}\")  # Send a confirmation message to the user using the bot instance\n",
        "\n",
        "        # Return HTTP 200 OK\n",
        "        return jsonify({\"status\": \"success\", \"message\": \"Processed successfully\"}), 200  # Return success response with HTTP 200 OK\n",
        "\n",
        "    except Exception as e:\n",
        "        # Log the error and respond with HTTP 200 to prevent retries\n",
        "        print(f\"Error occurred: {str(e)}\")  # Print the error message to the console for debugging\n",
        "        return jsonify({\"status\": \"error\", \"message\": str(e)}), 200  # Return error response but with HTTP 200 to prevent Telegram from retrying"
      ],
      "metadata": {
        "id": "QntFDQ-sDWkd"
      },
      "execution_count": 6,
      "outputs": []
    },
    {
      "cell_type": "markdown",
      "source": [
        "# App to reply back telegram messages\n"
      ],
      "metadata": {
        "id": "eTeWaUvbPzww"
      }
    },
    {
      "cell_type": "code",
      "source": [
        "!pip install flask pyngrok python-telegram-bot==13.12\n"
      ],
      "metadata": {
        "colab": {
          "base_uri": "https://localhost:8080/"
        },
        "id": "6X4ALXXlD35v",
        "outputId": "173af70b-fd7d-4774-8c1d-3bfdd99e3748"
      },
      "execution_count": 3,
      "outputs": [
        {
          "output_type": "stream",
          "name": "stdout",
          "text": [
            "Requirement already satisfied: flask in /usr/local/lib/python3.10/dist-packages (3.0.3)\n",
            "Collecting pyngrok\n",
            "  Downloading pyngrok-7.2.2-py3-none-any.whl.metadata (8.4 kB)\n",
            "Collecting python-telegram-bot==13.12\n",
            "  Downloading python_telegram_bot-13.12-py3-none-any.whl.metadata (11 kB)\n",
            "Requirement already satisfied: certifi in /usr/local/lib/python3.10/dist-packages (from python-telegram-bot==13.12) (2024.8.30)\n",
            "Requirement already satisfied: tornado>=6.1 in /usr/local/lib/python3.10/dist-packages (from python-telegram-bot==13.12) (6.3.3)\n",
            "Collecting APScheduler==3.6.3 (from python-telegram-bot==13.12)\n",
            "  Downloading APScheduler-3.6.3-py2.py3-none-any.whl.metadata (5.4 kB)\n",
            "Requirement already satisfied: pytz>=2018.6 in /usr/local/lib/python3.10/dist-packages (from python-telegram-bot==13.12) (2024.2)\n",
            "Collecting cachetools==4.2.2 (from python-telegram-bot==13.12)\n",
            "  Downloading cachetools-4.2.2-py3-none-any.whl.metadata (4.6 kB)\n",
            "Requirement already satisfied: setuptools>=0.7 in /usr/local/lib/python3.10/dist-packages (from APScheduler==3.6.3->python-telegram-bot==13.12) (75.1.0)\n",
            "Requirement already satisfied: six>=1.4.0 in /usr/local/lib/python3.10/dist-packages (from APScheduler==3.6.3->python-telegram-bot==13.12) (1.17.0)\n",
            "Requirement already satisfied: tzlocal>=1.2 in /usr/local/lib/python3.10/dist-packages (from APScheduler==3.6.3->python-telegram-bot==13.12) (5.2)\n",
            "Requirement already satisfied: Werkzeug>=3.0.0 in /usr/local/lib/python3.10/dist-packages (from flask) (3.1.3)\n",
            "Requirement already satisfied: Jinja2>=3.1.2 in /usr/local/lib/python3.10/dist-packages (from flask) (3.1.4)\n",
            "Requirement already satisfied: itsdangerous>=2.1.2 in /usr/local/lib/python3.10/dist-packages (from flask) (2.2.0)\n",
            "Requirement already satisfied: click>=8.1.3 in /usr/local/lib/python3.10/dist-packages (from flask) (8.1.7)\n",
            "Requirement already satisfied: blinker>=1.6.2 in /usr/local/lib/python3.10/dist-packages (from flask) (1.9.0)\n",
            "Requirement already satisfied: PyYAML>=5.1 in /usr/local/lib/python3.10/dist-packages (from pyngrok) (6.0.2)\n",
            "Requirement already satisfied: MarkupSafe>=2.0 in /usr/local/lib/python3.10/dist-packages (from Jinja2>=3.1.2->flask) (3.0.2)\n",
            "Downloading python_telegram_bot-13.12-py3-none-any.whl (511 kB)\n",
            "\u001b[2K   \u001b[90m━━━━━━━━━━━━━━━━━━━━━━━━━━━━━━━━━━━━━━━━\u001b[0m \u001b[32m511.1/511.1 kB\u001b[0m \u001b[31m8.4 MB/s\u001b[0m eta \u001b[36m0:00:00\u001b[0m\n",
            "\u001b[?25hDownloading APScheduler-3.6.3-py2.py3-none-any.whl (58 kB)\n",
            "\u001b[2K   \u001b[90m━━━━━━━━━━━━━━━━━━━━━━━━━━━━━━━━━━━━━━━━\u001b[0m \u001b[32m58.9/58.9 kB\u001b[0m \u001b[31m3.2 MB/s\u001b[0m eta \u001b[36m0:00:00\u001b[0m\n",
            "\u001b[?25hDownloading cachetools-4.2.2-py3-none-any.whl (11 kB)\n",
            "Downloading pyngrok-7.2.2-py3-none-any.whl (22 kB)\n",
            "Installing collected packages: pyngrok, cachetools, APScheduler, python-telegram-bot\n",
            "  Attempting uninstall: cachetools\n",
            "    Found existing installation: cachetools 5.5.0\n",
            "    Uninstalling cachetools-5.5.0:\n",
            "      Successfully uninstalled cachetools-5.5.0\n",
            "Successfully installed APScheduler-3.6.3 cachetools-4.2.2 pyngrok-7.2.2 python-telegram-bot-13.12\n"
          ]
        }
      ]
    },
    {
      "source": [
        "# This code creates a flask webserver with a public web link, and the telegram_bot is run on the POST requests\n",
        "# After this next webhook is set for a bot in next cell, but wull have to go to a differnt collab book\n",
        "\n",
        "import os\n",
        "import telegram\n",
        "from flask import Flask, request, jsonify\n",
        "from pyngrok import ngrok\n",
        "\n",
        "# Initialize Flask App\n",
        "app = Flask(__name__)\n",
        "\n",
        "# Telegram Bot Token\n",
        "bot = telegram.Bot(token='6752612939:AAHG52PLf3c8XK3Wc-t1ohszKeu8ILx4ISg')\n",
        "\n",
        "# Log file path\n",
        "LOG_FILE = \"telegram_bot_logs.txt\"\n",
        "\n",
        "# Function to write logs\n",
        "def log_to_file(message):\n",
        "    with open(LOG_FILE, \"a\") as log_file:\n",
        "        log_file.write(message + \"\\n\")\n",
        "\n",
        "@app.route('/telegram_bot', methods=['POST'])\n",
        "def telegram_bot():\n",
        "    try:\n",
        "        # Capture incoming request payload\n",
        "        payload = request.get_json(force=True)\n",
        "        log_to_file(f\"Received Payload: {payload}\")  # Log the payload to file\n",
        "\n",
        "        # Extract details from the payload\n",
        "        update = telegram.Update.de_json(payload, bot)\n",
        "        chat_id = update.message.chat.id\n",
        "        user_message = update.message.text\n",
        "\n",
        "        # Log message details\n",
        "        log_to_file(f\"Message: '{user_message}' | Chat ID: {chat_id}\")\n",
        "\n",
        "        # Send response back to Telegram\n",
        "        bot.sendMessage(chat_id=chat_id, text=f\"Noted: {user_message}\")\n",
        "\n",
        "        # Return HTTP 200 OK\n",
        "        log_to_file(\"Response sent successfully\")\n",
        "        return jsonify({\"status\": \"success\", \"message\": \"Webhook received\"}), 200\n",
        "\n",
        "    except Exception as e:\n",
        "        log_to_file(f\"Error: {e}\")\n",
        "        return jsonify({\"status\": \"error\", \"message\": str(e)}), 200\n",
        "\n",
        "# Ngrok setup\n",
        "ngrok.set_auth_token(\"2qNJ3PecUpB7w9xLEexN2O1V4sq_6RrKvHFciqKZFazDRk29J\")  # Auth token\n",
        "public_url = ngrok.connect(5000).public_url\n",
        "log_to_file(f\"Public URL: {public_url}\")\n",
        "print(f\"Public URL: {public_url}\")\n",
        "\n",
        "# Run Flask Server\n",
        "app.run(port=5000)\n"
      ],
      "cell_type": "code",
      "metadata": {
        "colab": {
          "base_uri": "https://localhost:8080/"
        },
        "id": "GKT0QNTbGOEx",
        "outputId": "fab96a2d-1178-4d7a-dc60-502e07b65a36"
      },
      "execution_count": null,
      "outputs": [
        {
          "output_type": "stream",
          "name": "stdout",
          "text": [
            "Public URL: https://b10e-35-245-170-25.ngrok-free.app\n",
            " * Serving Flask app '__main__'\n",
            " * Debug mode: off\n"
          ]
        },
        {
          "output_type": "stream",
          "name": "stderr",
          "text": [
            "INFO:werkzeug:\u001b[31m\u001b[1mWARNING: This is a development server. Do not use it in a production deployment. Use a production WSGI server instead.\u001b[0m\n",
            " * Running on http://127.0.0.1:5000\n",
            "INFO:werkzeug:\u001b[33mPress CTRL+C to quit\u001b[0m\n",
            "INFO:werkzeug:127.0.0.1 - - [18/Dec/2024 05:26:54] \"\u001b[33mGET / HTTP/1.1\u001b[0m\" 404 -\n",
            "INFO:werkzeug:127.0.0.1 - - [18/Dec/2024 05:26:54] \"\u001b[33mGET /favicon.ico HTTP/1.1\u001b[0m\" 404 -\n",
            "INFO:werkzeug:127.0.0.1 - - [18/Dec/2024 05:27:13] \"POST /telegram_bot HTTP/1.1\" 200 -\n",
            "INFO:werkzeug:127.0.0.1 - - [18/Dec/2024 05:27:44] \"POST /telegram_bot HTTP/1.1\" 200 -\n"
          ]
        }
      ]
    },
    {
      "cell_type": "code",
      "source": [
        "import requests\n",
        "\n",
        "# Replace with your bot token and the new webhook URL\n",
        "TELEGRAM_TOKEN = \"6752612939:AAHG52PLf3c8XK3Wc-t1ohszKeu8ILx4ISg\"\n",
        "NEW_WEBHOOK_URL = \"https://643b-35-245-170-25.ngrok-free.app/telegram_bot\"\n",
        "\n",
        "# Set the new webhook URL\n",
        "response = requests.post(\n",
        "    f\"https://api.telegram.org/bot{TELEGRAM_TOKEN}/setWebhook\",\n",
        "    json={\"url\": NEW_WEBHOOK_URL}\n",
        ")\n",
        "\n",
        "# Print the response from Telegram\n",
        "print(\"Set Webhook Response:\", response.json())\n"
      ],
      "metadata": {
        "colab": {
          "base_uri": "https://localhost:8080/"
        },
        "id": "pfxbrmuXMSPd",
        "outputId": "f885d263-e329-46e7-d6e8-a0f43e050a0c"
      },
      "execution_count": null,
      "outputs": [
        {
          "output_type": "stream",
          "name": "stdout",
          "text": [
            "Set Webhook Response: {'ok': False, 'error_code': 404, 'description': 'Not Found'}\n"
          ]
        }
      ]
    }
  ]
}